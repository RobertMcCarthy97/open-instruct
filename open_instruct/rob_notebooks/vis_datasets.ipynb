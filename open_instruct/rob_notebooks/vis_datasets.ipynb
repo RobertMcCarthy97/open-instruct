{
 "cells": [
  {
   "cell_type": "code",
   "execution_count": null,
   "metadata": {},
   "outputs": [],
   "source": [
    "# from datasets import load_dataset, DatasetDict, concatenate_datasets, load_from_disk\n",
    "# import os\n",
    "from open_instruct.utils import combine_dataset\n",
    "\n",
    "# Core test setup\n",
    "dataset_mixer = {\"ai2-adapt-dev/gsm8k_math_ifeval_ground_truth_mixed\": 1.0}\n",
    "splits = [\"train\"]\n",
    "columns_to_keep = [\"messages\", \"ground_truth\"]\n",
    "\n",
    "# Test function call\n",
    "dataset = combine_dataset(\n",
    "    dataset_mixer=dataset_mixer,\n",
    "    splits=splits, \n",
    "    columns_to_keep=columns_to_keep,\n",
    "    shuffle=False\n",
    ")\n",
    "\n",
    "# Inspection\n",
    "print(\"Dataset length:\", len(dataset))\n",
    "print(\"\\nColumns:\", dataset.column_names)\n",
    "print(\"\\nFirst example:\", dataset[0])\n",
    "\n",
    "# Test with evaluation dataset\n",
    "eval_mixer = {\"ai2-adapt-dev/gsm8k_math_ground_truth\": 1.0}\n",
    "eval_splits = [\"test\"]\n",
    "\n",
    "eval_dataset = combine_dataset(\n",
    "    dataset_mixer=eval_mixer,\n",
    "    splits=eval_splits,\n",
    "    columns_to_keep=columns_to_keep,\n",
    "    shuffle=False\n",
    ")\n",
    "\n",
    "print(\"\\nEval dataset length:\", len(eval_dataset))\n",
    "print(\"\\nEval dataset first example:\", eval_dataset[0])"
   ]
  }
 ],
 "metadata": {
  "language_info": {
   "name": "python"
  }
 },
 "nbformat": 4,
 "nbformat_minor": 2
}
